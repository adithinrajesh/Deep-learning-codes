{
 "cells": [
  {
   "cell_type": "code",
   "execution_count": 1,
   "id": "7984ba5a",
   "metadata": {},
   "outputs": [],
   "source": [
    "import numpy as np\n",
    "import tensorflow as tf\n",
    "import matplotlib.pyplot as plt"
   ]
  },
  {
   "cell_type": "code",
   "execution_count": 2,
   "id": "8958be1a",
   "metadata": {},
   "outputs": [
    {
     "name": "stdout",
     "output_type": "stream",
     "text": [
      "Downloading data from https://www.cs.toronto.edu/~kriz/cifar-10-python.tar.gz\n",
      "170498071/170498071 [==============================] - 332s 2us/step\n"
     ]
    }
   ],
   "source": [
    "cifar = tf.keras.datasets.cifar10\n",
    "(train_img, train_label), (test_img, test_label) = cifar.load_data()"
   ]
  },
  {
   "cell_type": "code",
   "execution_count": 3,
   "id": "5077442e",
   "metadata": {},
   "outputs": [],
   "source": [
    "names = ['airplane', 'automobile', 'bird', 'cat', 'deer', 'dog', 'frog', 'horse', 'ship', 'truck']"
   ]
  },
  {
   "cell_type": "code",
   "execution_count": 4,
   "id": "b83740d4",
   "metadata": {},
   "outputs": [
    {
     "name": "stdout",
     "output_type": "stream",
     "text": [
      "[0 1 2 3 4 5 6 7 8 9]\n"
     ]
    }
   ],
   "source": [
    "labels = np.unique(test_label)\n",
    "print(labels)"
   ]
  },
  {
   "cell_type": "code",
   "execution_count": 5,
   "id": "143bf887",
   "metadata": {},
   "outputs": [],
   "source": [
    "train_img = train_img/255.0\n",
    "test_img = test_img/255.0"
   ]
  },
  {
   "cell_type": "code",
   "execution_count": 6,
   "id": "1a4074db",
   "metadata": {},
   "outputs": [],
   "source": [
    "model = tf.keras.Sequential([\n",
    "    tf.keras.layers.Flatten(input_shape=(32, 32, 3)),\n",
    "    tf.keras.layers.Dense(128, activation = 'relu'),\n",
    "    tf.keras.layers.Dense(128, activation = 'relu'),\n",
    "    tf.keras.layers.Dense(10, activation = 'softmax')\n",
    "])"
   ]
  },
  {
   "cell_type": "code",
   "execution_count": 7,
   "id": "17de09f3",
   "metadata": {},
   "outputs": [
    {
     "name": "stdout",
     "output_type": "stream",
     "text": [
      "Model: \"sequential\"\n",
      "_________________________________________________________________\n",
      " Layer (type)                Output Shape              Param #   \n",
      "=================================================================\n",
      " flatten (Flatten)           (None, 3072)              0         \n",
      "                                                                 \n",
      " dense (Dense)               (None, 128)               393344    \n",
      "                                                                 \n",
      " dense_1 (Dense)             (None, 128)               16512     \n",
      "                                                                 \n",
      " dense_2 (Dense)             (None, 10)                1290      \n",
      "                                                                 \n",
      "=================================================================\n",
      "Total params: 411146 (1.57 MB)\n",
      "Trainable params: 411146 (1.57 MB)\n",
      "Non-trainable params: 0 (0.00 Byte)\n",
      "_________________________________________________________________\n"
     ]
    }
   ],
   "source": [
    "model.summary()"
   ]
  },
  {
   "cell_type": "code",
   "execution_count": 8,
   "id": "67b461b6",
   "metadata": {},
   "outputs": [],
   "source": [
    "model.compile(optimizer = 'adam', loss = 'sparse_categorical_crossentropy',metrics=['accuracy'] )"
   ]
  },
  {
   "cell_type": "code",
   "execution_count": 10,
   "id": "96b1ad4c",
   "metadata": {
    "scrolled": true
   },
   "outputs": [
    {
     "name": "stdout",
     "output_type": "stream",
     "text": [
      "Epoch 1/35\n",
      "1563/1563 [==============================] - 9s 5ms/step - loss: 1.3247 - accuracy: 0.5275\n",
      "Epoch 2/35\n",
      "1563/1563 [==============================] - 8s 5ms/step - loss: 1.3171 - accuracy: 0.5282\n",
      "Epoch 3/35\n",
      "1563/1563 [==============================] - 8s 5ms/step - loss: 1.3145 - accuracy: 0.5293\n",
      "Epoch 4/35\n",
      "1563/1563 [==============================] - 8s 5ms/step - loss: 1.3163 - accuracy: 0.5290\n",
      "Epoch 5/35\n",
      "1563/1563 [==============================] - 8s 5ms/step - loss: 1.3056 - accuracy: 0.5314\n",
      "Epoch 6/35\n",
      "1563/1563 [==============================] - 8s 5ms/step - loss: 1.3022 - accuracy: 0.5345\n",
      "Epoch 7/35\n",
      "1563/1563 [==============================] - 8s 5ms/step - loss: 1.3005 - accuracy: 0.5358\n",
      "Epoch 8/35\n",
      "1563/1563 [==============================] - 8s 5ms/step - loss: 1.2999 - accuracy: 0.5322\n",
      "Epoch 9/35\n",
      "1563/1563 [==============================] - 8s 5ms/step - loss: 1.2938 - accuracy: 0.5375\n",
      "Epoch 10/35\n",
      "1563/1563 [==============================] - 9s 5ms/step - loss: 1.2965 - accuracy: 0.5360\n",
      "Epoch 11/35\n",
      "1563/1563 [==============================] - 8s 5ms/step - loss: 1.2861 - accuracy: 0.5391\n",
      "Epoch 12/35\n",
      "1563/1563 [==============================] - 9s 6ms/step - loss: 1.2837 - accuracy: 0.5419\n",
      "Epoch 13/35\n",
      "1563/1563 [==============================] - 9s 6ms/step - loss: 1.2790 - accuracy: 0.5399\n",
      "Epoch 14/35\n",
      "1563/1563 [==============================] - 11s 7ms/step - loss: 1.2781 - accuracy: 0.5397\n",
      "Epoch 15/35\n",
      "1563/1563 [==============================] - 10s 6ms/step - loss: 1.2734 - accuracy: 0.5415\n",
      "Epoch 16/35\n",
      "1563/1563 [==============================] - 9s 6ms/step - loss: 1.2727 - accuracy: 0.5430\n",
      "Epoch 17/35\n",
      "1563/1563 [==============================] - 8s 5ms/step - loss: 1.2680 - accuracy: 0.5453\n",
      "Epoch 18/35\n",
      "1563/1563 [==============================] - 8s 5ms/step - loss: 1.2647 - accuracy: 0.5495\n",
      "Epoch 19/35\n",
      "1563/1563 [==============================] - 8s 5ms/step - loss: 1.2648 - accuracy: 0.5464\n",
      "Epoch 20/35\n",
      "1563/1563 [==============================] - 8s 5ms/step - loss: 1.2641 - accuracy: 0.5467\n",
      "Epoch 21/35\n",
      "1563/1563 [==============================] - 8s 5ms/step - loss: 1.2563 - accuracy: 0.5492\n",
      "Epoch 22/35\n",
      "1563/1563 [==============================] - 8s 5ms/step - loss: 1.2552 - accuracy: 0.5511\n",
      "Epoch 23/35\n",
      "1563/1563 [==============================] - 8s 5ms/step - loss: 1.2533 - accuracy: 0.5504\n",
      "Epoch 24/35\n",
      "1563/1563 [==============================] - 8s 5ms/step - loss: 1.2547 - accuracy: 0.5489\n",
      "Epoch 25/35\n",
      "1563/1563 [==============================] - 8s 5ms/step - loss: 1.2500 - accuracy: 0.5518\n",
      "Epoch 26/35\n",
      "1563/1563 [==============================] - 8s 5ms/step - loss: 1.2464 - accuracy: 0.5514\n",
      "Epoch 27/35\n",
      "1563/1563 [==============================] - 8s 5ms/step - loss: 1.2430 - accuracy: 0.5549\n",
      "Epoch 28/35\n",
      "1563/1563 [==============================] - 8s 5ms/step - loss: 1.2436 - accuracy: 0.5559\n",
      "Epoch 29/35\n",
      "1563/1563 [==============================] - 8s 5ms/step - loss: 1.2436 - accuracy: 0.5550\n",
      "Epoch 30/35\n",
      "1563/1563 [==============================] - 8s 5ms/step - loss: 1.2353 - accuracy: 0.5564\n",
      "Epoch 31/35\n",
      "1563/1563 [==============================] - 8s 5ms/step - loss: 1.2343 - accuracy: 0.5571\n",
      "Epoch 32/35\n",
      "1563/1563 [==============================] - 8s 5ms/step - loss: 1.2335 - accuracy: 0.5573\n",
      "Epoch 33/35\n",
      "1563/1563 [==============================] - 8s 5ms/step - loss: 1.2302 - accuracy: 0.5588\n",
      "Epoch 34/35\n",
      "1563/1563 [==============================] - 8s 5ms/step - loss: 1.2303 - accuracy: 0.5564\n",
      "Epoch 35/35\n",
      "1563/1563 [==============================] - 8s 5ms/step - loss: 1.2272 - accuracy: 0.5606\n"
     ]
    },
    {
     "data": {
      "text/plain": [
       "<keras.src.callbacks.History at 0x1b94e9a00a0>"
      ]
     },
     "execution_count": 10,
     "metadata": {},
     "output_type": "execute_result"
    }
   ],
   "source": [
    "model.fit(train_img, train_label, epochs = 35)"
   ]
  },
  {
   "cell_type": "code",
   "execution_count": 11,
   "id": "0070a961",
   "metadata": {},
   "outputs": [
    {
     "name": "stdout",
     "output_type": "stream",
     "text": [
      "313/313 [==============================] - 1s 1ms/step - loss: 1.4850 - accuracy: 0.4887\n"
     ]
    }
   ],
   "source": [
    "test_loss, test_acc = model.evaluate(test_img, test_label)"
   ]
  },
  {
   "cell_type": "code",
   "execution_count": 12,
   "id": "3c7e10e4",
   "metadata": {},
   "outputs": [
    {
     "name": "stdout",
     "output_type": "stream",
     "text": [
      "Test accuracy =  0.4887000024318695\n"
     ]
    }
   ],
   "source": [
    "print(\"Test accuracy = \", test_acc)"
   ]
  }
 ],
 "metadata": {
  "kernelspec": {
   "display_name": "Python 3",
   "language": "python",
   "name": "python3"
  },
  "language_info": {
   "codemirror_mode": {
    "name": "ipython",
    "version": 3
   },
   "file_extension": ".py",
   "mimetype": "text/x-python",
   "name": "python",
   "nbconvert_exporter": "python",
   "pygments_lexer": "ipython3",
   "version": "3.8.8"
  }
 },
 "nbformat": 4,
 "nbformat_minor": 5
}
